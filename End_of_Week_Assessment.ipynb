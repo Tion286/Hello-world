{
  "nbformat": 4,
  "nbformat_minor": 0,
  "metadata": {
    "colab": {
      "provenance": [],
      "include_colab_link": true
    },
    "kernelspec": {
      "name": "python3",
      "display_name": "Python 3"
    },
    "language_info": {
      "name": "python"
    }
  },
  "cells": [
    {
      "cell_type": "markdown",
      "metadata": {
        "id": "view-in-github",
        "colab_type": "text"
      },
      "source": [
        "<a href=\"https://colab.research.google.com/github/Tion286/Hello-world/blob/main/End_of_Week_Assessment.ipynb\" target=\"_parent\"><img src=\"https://colab.research.google.com/assets/colab-badge.svg\" alt=\"Open In Colab\"/></a>"
      ]
    },
    {
      "cell_type": "code",
      "execution_count": null,
      "metadata": {
        "id": "WI_S8gdHi5lJ"
      },
      "outputs": [],
      "source": [
        "from keras.models import Sequential\n",
        "from keras.layers import Dense\n",
        "import numpy as np\n",
        "import pandas as pd\n",
        "from sklearn.preprocessing import MinMaxScaler\n",
        "from sklearn.model_selection import train_test_split\n",
        "from sklearn.metrics import confusion_matrix\n",
        "import seaborn as sns"
      ]
    },
    {
      "cell_type": "code",
      "source": [
        "df = pd.read_csv('/content/drive/MyDrive/CodeWorks Course Planning Elizabeth/Week 3 Slides/features_30_sec.csv')"
      ],
      "metadata": {
        "id": "Z_xc-3dZjAL4"
      },
      "execution_count": null,
      "outputs": []
    },
    {
      "cell_type": "code",
      "source": [
        "df = df.drop('filename', axis = 1)"
      ],
      "metadata": {
        "id": "_6hhgvWRjssk"
      },
      "execution_count": null,
      "outputs": []
    },
    {
      "cell_type": "code",
      "source": [
        "xcols = list(df.columns.values)[:-1]\n",
        "ycols = list(df.columns.values)[-1:]"
      ],
      "metadata": {
        "id": "3M1GopF1jUCc"
      },
      "execution_count": null,
      "outputs": []
    },
    {
      "cell_type": "markdown",
      "source": [
        "<h1>Complete the Following:</h1>\n",
        "<ol>\n",
        "  <li>One hot encode the y column.</li>\n",
        "    <ul>\n",
        "      <li>You can use the variable <strong>ycols</strong> from above which is the name of the y variable.</li>\n",
        "      <li>Remember that the Pandas function to one hot encode is <strong>get_dummies()</strong> as we have seen in <strong>Day 3 Notebook</strong>.</li>\n",
        "    </ul>\n",
        "  <li>Scale the x columns.</li>\n",
        "    <ul>\n",
        "      <li>You can use the variable <strong>xcols</strong> from above which is the list of x variables.</li>\n",
        "      <li>Use the function <strong>MinMaxScaler()</strong> which we saw an example of how to use in <strong>Day 7 Notebook</strong>.</li>\n",
        "    </ul>\n",
        "  <li>Split data into training and testing.</li>\n",
        "    <ul>\n",
        "      <li>Use <strong>train_test_split()</strong> as we have in <strong>Day 3 Notebook</strong>.</li>\n",
        "      <li>As a parameter of train_test_split, set <strong>shuffle = True</strong> to shuffle rows.</li>\n",
        "    </ul>\n",
        "  <li>Build a sequential model with dense layers using keras.</li>\n",
        "    <ul>\n",
        "      <li>You saw how to do this in <strong>Day 7 Notebook</strong>.</li>\n",
        "      <li>You can try out any activation function you want. I recommend testing <strong>relu, sigmoid, or linear</strong>.</li>\n",
        "      <li>Incorporate as many layers as you want with as many incoming and outgoing nodes.</li>\n",
        "      <li>Hint: in the first layer make sure you set the input size to be the number of x columns which you can get with the code <strong>len(xcols)</strong>.</li>\n",
        "    </ul>\n",
        "  <li>Predict for training and testing data.</li>\n",
        "    <ul>\n",
        "      <li>The outputs would be the probability that each sample is a certain class. Develop a function to map the highest predicted probability for a sample to a class.</li>\n",
        "      <li>Hint: check each predicted sample and save the index of the highest value as the predicted class.</li>\n",
        "    </ul>\n",
        "  <li>Generate a confusion matrix for both the training and testing predictions.</li>\n",
        "    <ul>\n",
        "      <li>Use the function <strong>confusion_matrix()</strong> which we did in <strong>Day 3 Notebook</strong>.</li>\n",
        "    </ul>\n",
        "<ol>"
      ],
      "metadata": {
        "id": "XyMkcKy2gLbj"
      }
    }
  ]
}